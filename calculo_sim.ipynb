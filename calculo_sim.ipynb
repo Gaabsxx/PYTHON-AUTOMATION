{
 "cells": [
  {
   "cell_type": "code",
   "execution_count": 1,
   "metadata": {},
   "outputs": [],
   "source": [
    "import pandas as pd \n",
    "import numpy as np\n",
    "from time import sleep\n",
    "from pathlib import Path "
   ]
  },
  {
   "cell_type": "code",
   "execution_count": 2,
   "metadata": {},
   "outputs": [],
   "source": [
    "#Definindo as variáveis utilizadas \n",
    "\n",
    "\n",
    "basetranspofixo = pd.read_excel('BASETRANSPORTADORAS.xlsx', sheet_name='dTRANSPO_FIXO' , usecols=['nomeBase' , 'codigoBase' , 'valorFrete'])\n",
    "basetranspovar = pd.read_excel('BASETRANSPORTADORAS.xlsx' , sheet_name='dTRANSPO_VAR' , usecols=['nomeBase' , 'codigoBase'])\n",
    "basefretes = pd.read_excel('BASE_FRETES.xlsx', usecols=['nomeBase' , 'nomeJMS' , 'CIDADE' , 'FRETE' ])\n",
    "\n",
    "\n",
    "\n"
   ]
  },
  {
   "cell_type": "code",
   "execution_count": 3,
   "metadata": {},
   "outputs": [],
   "source": [
    "input_dir = Path.cwd() / 'DOWNLOADS_FECHAMENTO_FIXO'\n",
    "fechamento_fixo = list(input_dir.glob(\"*.xls*\"))\n",
    "\n",
    "lista_fechamento_fixo = []"
   ]
  },
  {
   "cell_type": "code",
   "execution_count": 4,
   "metadata": {},
   "outputs": [],
   "source": [
    "for path in list(input_dir.glob('*.xls*')):\n",
    "    part = pd.read_excel(path)\n",
    "    lista_fechamento_fixo.append(part)"
   ]
  },
  {
   "cell_type": "code",
   "execution_count": 5,
   "metadata": {},
   "outputs": [
    {
     "ename": "KeyError",
     "evalue": "'SP - TC LOG SRP (D02)'",
     "output_type": "error",
     "traceback": [
      "\u001b[1;31m---------------------------------------------------------------------------\u001b[0m",
      "\u001b[1;31mKeyError\u001b[0m                                  Traceback (most recent call last)",
      "\u001b[1;32mc:\\Users\\User\\Desktop\\PYTHON\\PROJETO PYTHON\\CALCULO_SIMEXPRESS\\calculo_sim.ipynb Célula: 5\u001b[0m in \u001b[0;36m<cell line: 13>\u001b[1;34m()\u001b[0m\n\u001b[0;32m     <a href='vscode-notebook-cell:/c%3A/Users/User/Desktop/PYTHON/PROJETO%20PYTHON/CALCULO_SIMEXPRESS/calculo_sim.ipynb#W4sZmlsZQ%3D%3D?line=10'>11</a>\u001b[0m transp \u001b[39m=\u001b[39m (fgf[\u001b[39m'\u001b[39m\u001b[39mNomeBase\u001b[39m\u001b[39m'\u001b[39m]\u001b[39m.\u001b[39munique())\n\u001b[0;32m     <a href='vscode-notebook-cell:/c%3A/Users/User/Desktop/PYTHON/PROJETO%20PYTHON/CALCULO_SIMEXPRESS/calculo_sim.ipynb#W4sZmlsZQ%3D%3D?line=12'>13</a>\u001b[0m \u001b[39mfor\u001b[39;00m transportadora \u001b[39min\u001b[39;00m transp:\n\u001b[1;32m---> <a href='vscode-notebook-cell:/c%3A/Users/User/Desktop/PYTHON/PROJETO%20PYTHON/CALCULO_SIMEXPRESS/calculo_sim.ipynb#W4sZmlsZQ%3D%3D?line=14'>15</a>\u001b[0m     transportadora \u001b[39m=\u001b[39m fgf\u001b[39m.\u001b[39;49mloc[transportadora, \u001b[39m'\u001b[39;49m\u001b[39mNomeBase\u001b[39;49m\u001b[39m'\u001b[39;49m]\n\u001b[0;32m     <a href='vscode-notebook-cell:/c%3A/Users/User/Desktop/PYTHON/PROJETO%20PYTHON/CALCULO_SIMEXPRESS/calculo_sim.ipynb#W4sZmlsZQ%3D%3D?line=15'>16</a>\u001b[0m     \u001b[39mprint\u001b[39m(\u001b[39m'\u001b[39m\u001b[39mDeuCerto\u001b[39m\u001b[39m'\u001b[39m)\n",
      "File \u001b[1;32mc:\\Users\\User\\anaconda3\\lib\\site-packages\\pandas\\core\\indexing.py:960\u001b[0m, in \u001b[0;36m_LocationIndexer.__getitem__\u001b[1;34m(self, key)\u001b[0m\n\u001b[0;32m    958\u001b[0m     key \u001b[39m=\u001b[39m \u001b[39mtuple\u001b[39m(com\u001b[39m.\u001b[39mapply_if_callable(x, \u001b[39mself\u001b[39m\u001b[39m.\u001b[39mobj) \u001b[39mfor\u001b[39;00m x \u001b[39min\u001b[39;00m key)\n\u001b[0;32m    959\u001b[0m     \u001b[39mif\u001b[39;00m \u001b[39mself\u001b[39m\u001b[39m.\u001b[39m_is_scalar_access(key):\n\u001b[1;32m--> 960\u001b[0m         \u001b[39mreturn\u001b[39;00m \u001b[39mself\u001b[39;49m\u001b[39m.\u001b[39;49mobj\u001b[39m.\u001b[39;49m_get_value(\u001b[39m*\u001b[39;49mkey, takeable\u001b[39m=\u001b[39;49m\u001b[39mself\u001b[39;49m\u001b[39m.\u001b[39;49m_takeable)\n\u001b[0;32m    961\u001b[0m     \u001b[39mreturn\u001b[39;00m \u001b[39mself\u001b[39m\u001b[39m.\u001b[39m_getitem_tuple(key)\n\u001b[0;32m    962\u001b[0m \u001b[39melse\u001b[39;00m:\n\u001b[0;32m    963\u001b[0m     \u001b[39m# we by definition only have the 0th axis\u001b[39;00m\n",
      "File \u001b[1;32mc:\\Users\\User\\anaconda3\\lib\\site-packages\\pandas\\core\\frame.py:3622\u001b[0m, in \u001b[0;36mDataFrame._get_value\u001b[1;34m(self, index, col, takeable)\u001b[0m\n\u001b[0;32m   3616\u001b[0m engine \u001b[39m=\u001b[39m \u001b[39mself\u001b[39m\u001b[39m.\u001b[39mindex\u001b[39m.\u001b[39m_engine\n\u001b[0;32m   3618\u001b[0m \u001b[39mif\u001b[39;00m \u001b[39mnot\u001b[39;00m \u001b[39misinstance\u001b[39m(\u001b[39mself\u001b[39m\u001b[39m.\u001b[39mindex, MultiIndex):\n\u001b[0;32m   3619\u001b[0m     \u001b[39m# CategoricalIndex: Trying to use the engine fastpath may give incorrect\u001b[39;00m\n\u001b[0;32m   3620\u001b[0m     \u001b[39m#  results if our categories are integers that dont match our codes\u001b[39;00m\n\u001b[0;32m   3621\u001b[0m     \u001b[39m# IntervalIndex: IntervalTree has no get_loc\u001b[39;00m\n\u001b[1;32m-> 3622\u001b[0m     row \u001b[39m=\u001b[39m \u001b[39mself\u001b[39;49m\u001b[39m.\u001b[39;49mindex\u001b[39m.\u001b[39;49mget_loc(index)\n\u001b[0;32m   3623\u001b[0m     \u001b[39mreturn\u001b[39;00m series\u001b[39m.\u001b[39m_values[row]\n\u001b[0;32m   3625\u001b[0m \u001b[39m# For MultiIndex going through engine effectively restricts us to\u001b[39;00m\n\u001b[0;32m   3626\u001b[0m \u001b[39m#  same-length tuples; see test_get_set_value_no_partial_indexing\u001b[39;00m\n",
      "File \u001b[1;32mc:\\Users\\User\\anaconda3\\lib\\site-packages\\pandas\\core\\indexes\\range.py:389\u001b[0m, in \u001b[0;36mRangeIndex.get_loc\u001b[1;34m(self, key, method, tolerance)\u001b[0m\n\u001b[0;32m    387\u001b[0m             \u001b[39mraise\u001b[39;00m \u001b[39mKeyError\u001b[39;00m(key) \u001b[39mfrom\u001b[39;00m \u001b[39merr\u001b[39;00m\n\u001b[0;32m    388\u001b[0m     \u001b[39mself\u001b[39m\u001b[39m.\u001b[39m_check_indexing_error(key)\n\u001b[1;32m--> 389\u001b[0m     \u001b[39mraise\u001b[39;00m \u001b[39mKeyError\u001b[39;00m(key)\n\u001b[0;32m    390\u001b[0m \u001b[39mreturn\u001b[39;00m \u001b[39msuper\u001b[39m()\u001b[39m.\u001b[39mget_loc(key, method\u001b[39m=\u001b[39mmethod, tolerance\u001b[39m=\u001b[39mtolerance)\n",
      "\u001b[1;31mKeyError\u001b[0m: 'SP - TC LOG SRP (D02)'"
     ]
    }
   ],
   "source": [
    "df_fixo = pd.concat(lista_fechamento_fixo)\n",
    "\n",
    "\n",
    "output_dir = Path.cwd() / 'FECHAMENTO_CONSOLIDADO'\n",
    "output_dir.mkdir(exist_ok=True)\n",
    "df_fixo.to_excel(output_dir / 'Fechamento_Geral_Fixo.xlsx' , index=False)\n",
    "\n",
    "fgf = pd.read_excel(r\"C:\\Users\\User\\Desktop\\PYTHON\\PROJETO PYTHON\\CALCULO_SIMEXPRESS\\FECHAMENTO_CONSOLIDADO\\Fechamento_Geral_Fixo.xlsx\")\n",
    "\n",
    "\n",
    "transp = (fgf['NomeBase'].unique())\n",
    "\n",
    "for transportadora in transp:\n",
    "\n",
    "    transportadora = fgf.loc[transportadora, 'NomeBase']\n",
    "    print('DeuCerto')\n",
    "\n",
    "\n",
    "\n",
    "\n",
    "   \n",
    " \n",
    "#display(fechamento_geral_fixo.loc[(fechamento_geral_fixo['Situacao Entrega'] == 'ENTREGA REALIZADA') & (fechamento_geral_fixo ['Ocorrencia'] == 'REALIZADA') & (fechamento_geral_fixo ['Tipo Operacao'] == 'ENTREGA')])\n",
    "\n",
    "#for i, vol in enumerate(fgf['Qtde Volumes']):\n",
    "\n",
    "    #vol = fgf.loc[i, 'Qtde Volumes']"
   ]
  },
  {
   "cell_type": "code",
   "execution_count": null,
   "metadata": {},
   "outputs": [],
   "source": []
  }
 ],
 "metadata": {
  "kernelspec": {
   "display_name": "Python 3.9.12 ('base')",
   "language": "python",
   "name": "python3"
  },
  "language_info": {
   "codemirror_mode": {
    "name": "ipython",
    "version": 3
   },
   "file_extension": ".py",
   "mimetype": "text/x-python",
   "name": "python",
   "nbconvert_exporter": "python",
   "pygments_lexer": "ipython3",
   "version": "3.9.12"
  },
  "orig_nbformat": 4,
  "vscode": {
   "interpreter": {
    "hash": "f08154012ddadd8e950e6e9e035c7a7b32c136e7647e9b7c77e02eb723a8bedb"
   }
  }
 },
 "nbformat": 4,
 "nbformat_minor": 2
}
