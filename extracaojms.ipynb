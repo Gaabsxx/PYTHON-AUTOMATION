{
 "cells": [
  {
   "cell_type": "code",
   "execution_count": 1,
   "metadata": {},
   "outputs": [],
   "source": [
    "#BIBLIOTECAS UTILIZADAS:\n",
    "\n",
    "import pandas as pd\n",
    "import pyautogui as bot \n",
    "from time import sleep\n",
    "import pyperclip as pclip \n",
    "\n",
    "#FUNCAO UTILIZADA:\n",
    "\n",
    "def tecla_tab(x):\n",
    "    for i in range(x):\n",
    "        bot.press('tab')"
   ]
  },
  {
   "cell_type": "code",
   "execution_count": 2,
   "metadata": {},
   "outputs": [],
   "source": [
    "data1 = input('Qual o primeiro do período? :') #INFORMAR A QUINZENA\n",
    "data2 = input('Qual o segundo do período? :') #INFORMAR A QUINZENA \n",
    "\n",
    "bot.hotkey('win')\n",
    "pclip.copy('Chrome')\n",
    "sleep(2)\n",
    "bot.hotkey('ctrl' , 'v')\n",
    "bot.hotkey('enter')\n",
    "sleep(3)\n",
    "pclip.copy('https://jmsbr.jtjms-br.com/index')\n",
    "bot.hotkey('ctrl' , 'v')\n",
    "bot.hotkey('enter')\n",
    "sleep(6)\n",
    "bot.click('GESTAO_BASES_CLICK.png')\n",
    "sleep(6)\n",
    "bot.click('GESTAO_PEDIDOS_CLICK.png')\n",
    "sleep(6)\n",
    "bot.click('GESTAO_ENTREGAS_CICK.png')\n",
    "sleep(6)\n",
    "tecla_tab(12)\n",
    "bot.write(data1)\n",
    "bot.hotkey('enter')\n",
    "sleep(1)\n",
    "tecla_tab(1)\n",
    "bot.write(data2)\n",
    "bot.hotkey('enter')\n",
    "sleep(1)\n",
    "bot.hotkey('tab')\n",
    "bot.write('n')\n",
    "sleep(2)\n",
    "bot.hotkey('enter')\n",
    "sleep(5)\n",
    "bot.click('EXPORTAR_CLICK.png')\n",
    "sleep(5)\n",
    "bot.click('CENTRAL_DOWNLOADS_CLICK.png')\n",
    "\n",
    "\n"
   ]
  }
 ],
 "metadata": {
  "kernelspec": {
   "display_name": "Python 3.9.12 ('base')",
   "language": "python",
   "name": "python3"
  },
  "language_info": {
   "codemirror_mode": {
    "name": "ipython",
    "version": 3
   },
   "file_extension": ".py",
   "mimetype": "text/x-python",
   "name": "python",
   "nbconvert_exporter": "python",
   "pygments_lexer": "ipython3",
   "version": "3.9.12"
  },
  "orig_nbformat": 4,
  "vscode": {
   "interpreter": {
    "hash": "f08154012ddadd8e950e6e9e035c7a7b32c136e7647e9b7c77e02eb723a8bedb"
   }
  }
 },
 "nbformat": 4,
 "nbformat_minor": 2
}
