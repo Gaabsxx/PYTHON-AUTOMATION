{
 "cells": [
  {
   "cell_type": "code",
   "execution_count": 1,
   "metadata": {},
   "outputs": [],
   "source": [
    "import pyautogui as bot\n",
    "from time import sleep\n",
    "import pyperclip as pclip \n",
    "import pandas as pd \n",
    "\n",
    "\n",
    "def tecla_tab(x):\n",
    "    for i in range(x):\n",
    "        bot.hotkey('alt' , 'tab')\n",
    "\n",
    "def copiar(x):\n",
    "    for i in range(x):\n",
    "        bot.hotkey('ctrl' , 'c')\n",
    "\n",
    "def colar(x):\n",
    "    for i in range(x):\n",
    "        bot.hotkey('ctrl' , 'v')\n",
    "\n",
    "def mudar_nome(x):\n",
    "    for i in range(x):\n",
    "        bot.press('down')\n",
    "        sleep(0.5)\n",
    "        tecla_tab(1)\n",
    "        sleep(0.5)\n",
    "        bot.press('down')\n",
    "        sleep(0.5)\n",
    "        copiar(1)\n",
    "        sleep(0.5)\n",
    "        tecla_tab(1)\n",
    "        sleep(0.5)\n",
    "        bot.press('F2')\n",
    "        sleep(0.5)\n",
    "        colar(1)\n",
    "        sleep(0.5)\n",
    "        bot.press('enter')\n",
    "        sleep(0.5)\n",
    "\n",
    "        \n"
   ]
  },
  {
   "cell_type": "code",
   "execution_count": 2,
   "metadata": {},
   "outputs": [
    {
     "ename": "KeyboardInterrupt",
     "evalue": "",
     "output_type": "error",
     "traceback": [
      "\u001b[1;31m---------------------------------------------------------------------------\u001b[0m",
      "\u001b[1;31mKeyboardInterrupt\u001b[0m                         Traceback (most recent call last)",
      "\u001b[1;32mc:\\Users\\User\\Desktop\\PYTHON\\PROJETO PYTHON\\RENOMEAR_ARQUIVOS\\renomeador.ipynb Célula: 2\u001b[0m in \u001b[0;36m<cell line: 36>\u001b[1;34m()\u001b[0m\n\u001b[0;32m     <a href='vscode-notebook-cell:/c%3A/Users/User/Desktop/PYTHON/PROJETO%20PYTHON/RENOMEAR_ARQUIVOS/renomeador.ipynb#W1sZmlsZQ%3D%3D?line=32'>33</a>\u001b[0m bot\u001b[39m.\u001b[39mpress(\u001b[39m'\u001b[39m\u001b[39menter\u001b[39m\u001b[39m'\u001b[39m)\n\u001b[0;32m     <a href='vscode-notebook-cell:/c%3A/Users/User/Desktop/PYTHON/PROJETO%20PYTHON/RENOMEAR_ARQUIVOS/renomeador.ipynb#W1sZmlsZQ%3D%3D?line=33'>34</a>\u001b[0m sleep(\u001b[39m1\u001b[39m)\n\u001b[1;32m---> <a href='vscode-notebook-cell:/c%3A/Users/User/Desktop/PYTHON/PROJETO%20PYTHON/RENOMEAR_ARQUIVOS/renomeador.ipynb#W1sZmlsZQ%3D%3D?line=35'>36</a>\u001b[0m mudar_nome(\u001b[39m110\u001b[39;49m)\n",
      "\u001b[1;32mc:\\Users\\User\\Desktop\\PYTHON\\PROJETO PYTHON\\RENOMEAR_ARQUIVOS\\renomeador.ipynb Célula: 2\u001b[0m in \u001b[0;36mmudar_nome\u001b[1;34m(x)\u001b[0m\n\u001b[0;32m     <a href='vscode-notebook-cell:/c%3A/Users/User/Desktop/PYTHON/PROJETO%20PYTHON/RENOMEAR_ARQUIVOS/renomeador.ipynb#W1sZmlsZQ%3D%3D?line=33'>34</a>\u001b[0m sleep(\u001b[39m0.5\u001b[39m)\n\u001b[0;32m     <a href='vscode-notebook-cell:/c%3A/Users/User/Desktop/PYTHON/PROJETO%20PYTHON/RENOMEAR_ARQUIVOS/renomeador.ipynb#W1sZmlsZQ%3D%3D?line=34'>35</a>\u001b[0m bot\u001b[39m.\u001b[39mpress(\u001b[39m'\u001b[39m\u001b[39menter\u001b[39m\u001b[39m'\u001b[39m)\n\u001b[1;32m---> <a href='vscode-notebook-cell:/c%3A/Users/User/Desktop/PYTHON/PROJETO%20PYTHON/RENOMEAR_ARQUIVOS/renomeador.ipynb#W1sZmlsZQ%3D%3D?line=35'>36</a>\u001b[0m sleep(\u001b[39m0.5\u001b[39;49m)\n",
      "\u001b[1;31mKeyboardInterrupt\u001b[0m: "
     ]
    }
   ],
   "source": [
    "#1 ABRIR PRIMEIRO ARQUIVO\n",
    "\n",
    "bot.press('win')\n",
    "pclip.copy('PYTHON')\n",
    "bot.hotkey('ctrl' , 'v')\n",
    "sleep(2)\n",
    "bot.press('enter')\n",
    "sleep(1)\n",
    "bot.press('down' , 2)\n",
    "bot.press('enter')\n",
    "bot.press('down' , 5)\n",
    "sleep(2)\n",
    "bot.press('enter')\n",
    "sleep(5)\n",
    "\n",
    "#2 ABRIR SEGUNDO ARQUIVO\n",
    "\n",
    "tecla_tab(1) \n",
    "bot.press('up' , 5)\n",
    "bot.press('enter')\n",
    "sleep(2)\n",
    "bot.press('pageup')\n",
    "\n",
    "tecla_tab(1)\n",
    "\n",
    "sleep(1)\n",
    "copiar(1)\n",
    "sleep(1)\n",
    "tecla_tab(1)\n",
    "sleep(1)\n",
    "bot.press('F2')\n",
    "colar(1)\n",
    "bot.press('enter')\n",
    "sleep(1)\n",
    "\n",
    "mudar_nome(110)\n",
    "\n",
    "\n"
   ]
  }
 ],
 "metadata": {
  "kernelspec": {
   "display_name": "Python 3.9.12 ('base')",
   "language": "python",
   "name": "python3"
  },
  "language_info": {
   "codemirror_mode": {
    "name": "ipython",
    "version": 3
   },
   "file_extension": ".py",
   "mimetype": "text/x-python",
   "name": "python",
   "nbconvert_exporter": "python",
   "pygments_lexer": "ipython3",
   "version": "3.9.12"
  },
  "orig_nbformat": 4,
  "vscode": {
   "interpreter": {
    "hash": "f08154012ddadd8e950e6e9e035c7a7b32c136e7647e9b7c77e02eb723a8bedb"
   }
  }
 },
 "nbformat": 4,
 "nbformat_minor": 2
}
